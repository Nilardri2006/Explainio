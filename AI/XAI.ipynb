{
 "cells": [
  {
   "cell_type": "code",
   "execution_count": null,
   "metadata": {
    "id": "0xphS_q5sgU2"
   },
   "outputs": [
    {
     "name": "stdout",
     "output_type": "stream",
     "text": [
      "\n",
      "🤖 AI Chatbot: Hello! Ask me anything, and I'll explain my answers in detail. Type 'exit' to stop.\n",
      "\n",
      "\n",
      "🤖 AI: Error: Could not reach the LLaMA API.\n",
      "\n",
      "The AI interpreted your query as: 'hi'. It analyzed the context and used NLP to generate a response: 'Error: Could not reach the LLaMA API.'. The response is based on patterns and knowledge available in the LLaMA API. \n",
      "\n",
      "\n",
      "🤖 AI: Error: Could not reach the LLaMA API.\n",
      "\n",
      "The AI interpreted your query as: ''. It analyzed the context and used NLP to generate a response: 'Error: Could not reach the LLaMA API.'. The response is based on patterns and knowledge available in the LLaMA API. \n",
      "\n",
      "\n",
      "🤖 AI: Error: Could not reach the LLaMA API.\n",
      "\n",
      "The AI interpreted your query as: 'escape'. It analyzed the context and used NLP to generate a response: 'Error: Could not reach the LLaMA API.'. The response is based on patterns and knowledge available in the LLaMA API. \n",
      "\n",
      "\n",
      "🤖 AI: Error: Could not reach the LLaMA API.\n",
      "\n",
      "The AI interpreted your query as: 'Escape'. It analyzed the context and used NLP to generate a response: 'Error: Could not reach the LLaMA API.'. The response is based on patterns and knowledge available in the LLaMA API. \n",
      "\n",
      "\n",
      "🤖 AI: Error: Could not reach the LLaMA API.\n",
      "\n",
      "The AI interpreted your query as: ''. It analyzed the context and used NLP to generate a response: 'Error: Could not reach the LLaMA API.'. The response is based on patterns and knowledge available in the LLaMA API. \n",
      "\n"
     ]
    }
   ],
   "source": [
    "import torch\n",
    "import torch.nn as nn\n",
    "import torch.optim as optim\n",
    "from transformers import AutoModelForSeq2SeqLM, AutoTokenizer\n",
    "\n",
    "def query_llama_api(prompt):\n",
    "    \"\"\"Generate response using Flan-T5 model.\"\"\"\n",
    "    model_name = \"google/flan-t5-large\"\n",
    "    tokenizer = AutoTokenizer.from_pretrained(model_name)\n",
    "    model = AutoModelForSeq2SeqLM.from_pretrained(model_name)\n",
    "\n",
    "    # Add task prefix\n",
    "    formatted_prompt = f\"Answer the following question: {prompt}\"\n",
    "\n",
    "    inputs = tokenizer(formatted_prompt, return_tensors=\"pt\")\n",
    "    outputs = model.generate(**inputs, max_length=500)  # Increase max tokens\n",
    "\n",
    "    generated_text = tokenizer.decode(outputs[0], skip_special_tokens=True)\n",
    "    print(\"Generated Output:\", generated_text)  # Debugging\n",
    "    return generated_text\n",
    "\n",
    "class SelfExplainableAI(nn.Module):\n",
    "    \"\"\"A simple self-explainable AI model using PyTorch.\"\"\"\n",
    "    def __init__(self, input_size, hidden_size, output_size):\n",
    "        super(SelfExplainableAI, self).__init__()\n",
    "        self.fc1 = nn.Linear(input_size, hidden_size)\n",
    "        self.relu = nn.ReLU()\n",
    "        self.fc2 = nn.Linear(hidden_size, output_size)\n",
    "\n",
    "    def forward(self, x):\n",
    "        x = self.fc1(x)\n",
    "        x = self.relu(x)\n",
    "        x = self.fc2(x)\n",
    "        return x\n",
    "\n",
    "def explain_response(user_input):\n",
    "    \"\"\"AI generates a detailed and self-explanatory response.\"\"\"\n",
    "    reasoning_prompt = f\"Answer the following question and explain your reasoning step-by-step: {user_input}\"\n",
    "    response = query_llama_api(reasoning_prompt)\n",
    "\n",
    "    explanation = f\"The AI received the query: '{user_input}'.\\n\\n\"\n",
    "    explanation += f\"The AI used the following reasoning process:\\n{response}\\n\\n\"\n",
    "\n",
    "    return response + \"\\n\\n\" + explanation\n",
    "\n",
    "def chat():\n",
    "    \"\"\"Interactive chat function for user-friendly conversation.\"\"\"\n",
    "    print(\"\\n🤖 AI Chatbot: Hello! Ask me anything, and I'll explain my answers in detail. Type 'exit' to stop.\\n\")\n",
    "    while True:\n",
    "        user_input = input(\"You: \")\n",
    "        if user_input.lower() == \"exit\":\n",
    "            print(\"\\n🤖 AI: Goodbye! Have a great day!\\n\")\n",
    "            break\n",
    "        response = explain_response(user_input)\n",
    "        print(\"\\n🤖 AI:\", response, \"\\n\")\n",
    "\n",
    "if __name__ == \"__main__\":\n",
    "    chat()\n"
   ]
  },
  {
   "cell_type": "code",
   "execution_count": 1,
   "metadata": {},
   "outputs": [
    {
     "name": "stdout",
     "output_type": "stream",
     "text": [
      "Name: torch\n",
      "Version: 2.5.1\n",
      "Summary: Tensors and Dynamic neural networks in Python with strong GPU acceleration\n",
      "Home-page: https://pytorch.org/\n",
      "Author: PyTorch Team\n",
      "Author-email: packages@pytorch.org\n",
      "License: BSD-3-Clause\n",
      "Location: /opt/homebrew/Caskroom/miniconda/base/envs/jupyter_env/lib/python3.11/site-packages\n",
      "Requires: filelock, fsspec, jinja2, networkx, sympy, typing-extensions\n",
      "Required-by: torchaudio, torchvision\n",
      "Note: you may need to restart the kernel to use updated packages.\n"
     ]
    }
   ],
   "source": [
    "pip show torch"
   ]
  }
 ],
 "metadata": {
  "colab": {
   "authorship_tag": "ABX9TyM2vgOAZFEpKWBI4MY9NDTZ",
   "provenance": []
  },
  "kernelspec": {
   "display_name": "jupyter_env",
   "language": "python",
   "name": "python3"
  },
  "language_info": {
   "codemirror_mode": {
    "name": "ipython",
    "version": 3
   },
   "file_extension": ".py",
   "mimetype": "text/x-python",
   "name": "python",
   "nbconvert_exporter": "python",
   "pygments_lexer": "ipython3",
   "version": "3.11.11"
  }
 },
 "nbformat": 4,
 "nbformat_minor": 0
}
